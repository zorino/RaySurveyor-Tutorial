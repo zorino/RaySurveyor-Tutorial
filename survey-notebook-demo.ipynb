{
 "cells": [
  {
   "cell_type": "markdown",
   "metadata": {},
   "source": [
    "# Ray Surveyor results analysis"
   ]
  },
  {
   "cell_type": "code",
   "execution_count": 85,
   "metadata": {},
   "outputs": [
    {
     "name": "stderr",
     "output_type": "stream",
     "text": [
      "IOPub data rate exceeded.\n",
      "The notebook server will temporarily stop sending output\n",
      "to the client in order to avoid crashing it.\n",
      "To change this limit, set the config variable\n",
      "`--NotebookApp.iopub_data_rate_limit`.\n"
     ]
    }
   ],
   "source": [
    "# Import modules \n",
    "\n",
    "from plotly import tools\n",
    "import plotly.offline as py\n",
    "import plotly.graph_objs as go\n",
    "\n",
    "from surveyor_scripts.raysurveyor_gentree import read_matrix, build_tree\n",
    "from surveyor_scripts.matrix_transform import drop_indices, normalize_gram_matrix\n",
    "\n",
    "py.init_notebook_mode()\n"
   ]
  },
  {
   "cell_type": "markdown",
   "metadata": {},
   "source": [
    "### Generate a phenetic tree from the kmer gram matrix\n"
   ]
  },
  {
   "cell_type": "code",
   "execution_count": 86,
   "metadata": {},
   "outputs": [
    {
     "data": {
      "text/html": [
       "<div>\n",
       "<style>\n",
       "    .dataframe thead tr:only-child th {\n",
       "        text-align: right;\n",
       "    }\n",
       "\n",
       "    .dataframe thead th {\n",
       "        text-align: left;\n",
       "    }\n",
       "\n",
       "    .dataframe tbody tr th {\n",
       "        vertical-align: top;\n",
       "    }\n",
       "</style>\n",
       "<table border=\"1\" class=\"dataframe\">\n",
       "  <thead>\n",
       "    <tr style=\"text-align: right;\">\n",
       "      <th></th>\n",
       "      <th>AF069671.1</th>\n",
       "      <th>AF224507.1</th>\n",
       "      <th>AY445524.1</th>\n",
       "      <th>EU541617.1</th>\n",
       "      <th>GQ372986.1</th>\n",
       "    </tr>\n",
       "  </thead>\n",
       "  <tbody>\n",
       "    <tr>\n",
       "      <th>AF069671.1</th>\n",
       "      <td>8845</td>\n",
       "      <td>1202</td>\n",
       "      <td>1415</td>\n",
       "      <td>1565</td>\n",
       "      <td>2142</td>\n",
       "    </tr>\n",
       "    <tr>\n",
       "      <th>AF224507.1</th>\n",
       "      <td>1202</td>\n",
       "      <td>9129</td>\n",
       "      <td>2155</td>\n",
       "      <td>4006</td>\n",
       "      <td>1276</td>\n",
       "    </tr>\n",
       "    <tr>\n",
       "      <th>AY445524.1</th>\n",
       "      <td>1415</td>\n",
       "      <td>2155</td>\n",
       "      <td>9112</td>\n",
       "      <td>2395</td>\n",
       "      <td>1349</td>\n",
       "    </tr>\n",
       "    <tr>\n",
       "      <th>EU541617.1</th>\n",
       "      <td>1565</td>\n",
       "      <td>4006</td>\n",
       "      <td>2395</td>\n",
       "      <td>9070</td>\n",
       "      <td>1456</td>\n",
       "    </tr>\n",
       "    <tr>\n",
       "      <th>GQ372986.1</th>\n",
       "      <td>2142</td>\n",
       "      <td>1276</td>\n",
       "      <td>1349</td>\n",
       "      <td>1456</td>\n",
       "      <td>8958</td>\n",
       "    </tr>\n",
       "  </tbody>\n",
       "</table>\n",
       "</div>"
      ],
      "text/plain": [
       "            AF069671.1  AF224507.1  AY445524.1  EU541617.1  GQ372986.1\n",
       "AF069671.1        8845        1202        1415        1565        2142\n",
       "AF224507.1        1202        9129        2155        4006        1276\n",
       "AY445524.1        1415        2155        9112        2395        1349\n",
       "EU541617.1        1565        4006        2395        9070        1456\n",
       "GQ372986.1        2142        1276        1349        1456        8958"
      ]
     },
     "metadata": {},
     "output_type": "display_data"
    }
   ],
   "source": [
    "# Read gram matrix as a pandas dataframe\n",
    "sim_matrix_global = read_matrix('./survey.res/Surveyor/SimilarityMatrix.global.tsv')\n",
    "\n",
    "# Removing filtering dataset entries from the gram matrix to keep only the genome entries\n",
    "sim_matrix_global = drop_indices(sim_matrix_global, [0,1,2,3])\n",
    "display(sim_matrix_global)"
   ]
  },
  {
   "cell_type": "code",
   "execution_count": 87,
   "metadata": {},
   "outputs": [
    {
     "data": {
      "application/vnd.plotly.v1+json": {
       "data": [
        {
         "type": "heatmap",
         "x": [
          "AF069671.1",
          "AF224507.1",
          "AY445524.1",
          "EU541617.1",
          "GQ372986.1"
         ],
         "y": [
          "AF069671.1",
          "AF224507.1",
          "AY445524.1",
          "EU541617.1",
          "GQ372986.1"
         ],
         "z": [
          [
           0.9999999999999999,
           0.13376544710721913,
           0.15761613209577102,
           0.17472770786389505,
           0.24063844849010196
          ],
          [
           0.13376544710721913,
           1,
           0.23628100826441373,
           0.44024628298249957,
           0.14110212094111013
          ],
          [
           0.15761613209577102,
           0.23628100826441373,
           0.9999999999999999,
           0.2634480684058436,
           0.14931366824897246
          ],
          [
           0.17472770786389505,
           0.4402462829824996,
           0.2634480684058436,
           1,
           0.1615296315302809
          ],
          [
           0.24063844849010196,
           0.14110212094111013,
           0.14931366824897246,
           0.16152963153028088,
           1
          ]
         ]
        }
       ],
       "layout": {
        "title": "Whole genomes gram matrix",
        "xaxis": {
         "nticks": 22,
         "ticks": ""
        },
        "yaxis": {
         "ticks": ""
        }
       }
      },
      "text/html": [
       "<div id=\"3ff84804-e533-4bd0-b472-0dd40f1c49ce\" style=\"height: 525px; width: 100%;\" class=\"plotly-graph-div\"></div><script type=\"text/javascript\">require([\"plotly\"], function(Plotly) { window.PLOTLYENV=window.PLOTLYENV || {};window.PLOTLYENV.BASE_URL=\"https://plot.ly\";Plotly.newPlot(\"3ff84804-e533-4bd0-b472-0dd40f1c49ce\", [{\"z\": [[0.9999999999999999, 0.13376544710721913, 0.15761613209577102, 0.17472770786389505, 0.24063844849010196], [0.13376544710721913, 1.0, 0.23628100826441373, 0.44024628298249957, 0.14110212094111013], [0.15761613209577102, 0.23628100826441373, 0.9999999999999999, 0.2634480684058436, 0.14931366824897246], [0.17472770786389505, 0.4402462829824996, 0.2634480684058436, 1.0, 0.1615296315302809], [0.24063844849010196, 0.14110212094111013, 0.14931366824897246, 0.16152963153028088, 1.0]], \"type\": \"heatmap\", \"x\": [\"AF069671.1\", \"AF224507.1\", \"AY445524.1\", \"EU541617.1\", \"GQ372986.1\"], \"y\": [\"AF069671.1\", \"AF224507.1\", \"AY445524.1\", \"EU541617.1\", \"GQ372986.1\"]}], {\"title\": \"Whole genomes gram matrix\", \"yaxis\": {\"ticks\": \"\"}, \"xaxis\": {\"ticks\": \"\", \"nticks\": 22}}, {\"showLink\": true, \"linkText\": \"Export to plot.ly\"})});</script>"
      ],
      "text/vnd.plotly.v1+html": [
       "<div id=\"3ff84804-e533-4bd0-b472-0dd40f1c49ce\" style=\"height: 525px; width: 100%;\" class=\"plotly-graph-div\"></div><script type=\"text/javascript\">require([\"plotly\"], function(Plotly) { window.PLOTLYENV=window.PLOTLYENV || {};window.PLOTLYENV.BASE_URL=\"https://plot.ly\";Plotly.newPlot(\"3ff84804-e533-4bd0-b472-0dd40f1c49ce\", [{\"z\": [[0.9999999999999999, 0.13376544710721913, 0.15761613209577102, 0.17472770786389505, 0.24063844849010196], [0.13376544710721913, 1.0, 0.23628100826441373, 0.44024628298249957, 0.14110212094111013], [0.15761613209577102, 0.23628100826441373, 0.9999999999999999, 0.2634480684058436, 0.14931366824897246], [0.17472770786389505, 0.4402462829824996, 0.2634480684058436, 1.0, 0.1615296315302809], [0.24063844849010196, 0.14110212094111013, 0.14931366824897246, 0.16152963153028088, 1.0]], \"type\": \"heatmap\", \"x\": [\"AF069671.1\", \"AF224507.1\", \"AY445524.1\", \"EU541617.1\", \"GQ372986.1\"], \"y\": [\"AF069671.1\", \"AF224507.1\", \"AY445524.1\", \"EU541617.1\", \"GQ372986.1\"]}], {\"title\": \"Whole genomes gram matrix\", \"yaxis\": {\"ticks\": \"\"}, \"xaxis\": {\"ticks\": \"\", \"nticks\": 22}}, {\"showLink\": true, \"linkText\": \"Export to plot.ly\"})});</script>"
      ]
     },
     "metadata": {},
     "output_type": "display_data"
    }
   ],
   "source": [
    "# Heatmap of the gram matrix\n",
    "trace = go.Heatmap(z=normalize_gram_matrix(sim_matrix_global.as_matrix()),\n",
    "                   x=sim_matrix_global.axes[0], \n",
    "                   y=sim_matrix_global.axes[1])\n",
    "layout = go.Layout(\n",
    "    title='Whole genomes gram matrix',\n",
    "    xaxis = dict(ticks='', nticks=22),\n",
    "    yaxis = dict(ticks='' )\n",
    ")\n",
    "data=[trace]\n",
    "fig = go.Figure(data=data, layout=layout)\n",
    "py.iplot(fig)"
   ]
  },
  {
   "cell_type": "code",
   "execution_count": 90,
   "metadata": {},
   "outputs": [
    {
     "data": {
      "image/png": "[encoded data removed]",
      "text/plain": [
       "<IPython.core.display.Image object>"
      ]
     },
     "execution_count": 90,
     "metadata": {},
     "output_type": "execute_result"
    }
   ],
   "source": [
    "from scipy.spatial.distance import pdist, squareform\n",
    "import pandas as pd\n",
    "\n",
    "# Get the strain's name\n",
    "names_list = [str(i) for i in sim_matrix_global.index.values.tolist()]\n",
    "\n",
    "# Get the normalized matrix\n",
    "norm_mat = normalize_gram_matrix(sim_matrix_global.as_matrix())\n",
    "\n",
    "# Generate a distance matrix from normalized matrix with a distance function (euclidean)\n",
    "dist_mat = squareform(pdist(norm_mat, 'euclidean'))\n",
    "df_dist = pd.DataFrame(dist_mat, index=sim_matrix_global.index, columns=sim_matrix_global.columns)\n",
    "\n",
    "# Build an ete3 Tree (neighbor joining)\n",
    "tree = build_tree(df_dist, names_list, 'nj')\n",
    "tree.render(\"%%inline\", w=500)"
   ]
  },
  {
   "cell_type": "code",
   "execution_count": null,
   "metadata": {
    "collapsed": true
   },
   "outputs": [],
   "source": []
  }
 ],
 "metadata": {
  "kernelspec": {
   "display_name": "Python 3",
   "language": "python",
   "name": "python3"
  },
  "language_info": {
   "codemirror_mode": {
    "name": "ipython",
    "version": 3
   },
   "file_extension": ".py",
   "mimetype": "text/x-python",
   "name": "python",
   "nbconvert_exporter": "python",
   "pygments_lexer": "ipython3",
   "version": "3.5.3"
  }
 },
 "nbformat": 4,
 "nbformat_minor": 2
}
