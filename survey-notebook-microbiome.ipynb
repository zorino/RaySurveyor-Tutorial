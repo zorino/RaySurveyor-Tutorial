{
 "cells": [
  {
   "cell_type": "markdown",
   "metadata": {},
   "source": [
    "# Ray Surveyor results analysis - Microbiome"
   ]
  },
  {
   "cell_type": "markdown",
   "metadata": {},
   "source": [
    "## Import modules and ray surveyor scripts"
   ]
  },
  {
   "cell_type": "code",
   "execution_count": null,
   "metadata": {},
   "outputs": [],
   "source": [
    "# Import modules \n",
    "import numpy as np\n",
    "from scipy.spatial.distance import pdist, squareform\n",
    "import pandas as pd\n",
    "import plotly.offline as py\n",
    "\n",
    "# raysurveyor scripts\n",
    "from surveyor_scripts.raysurveyor_gentree import read_matrix, build_tree, plotly_heatmap\n",
    "from surveyor_scripts.matrix_transform import drop_indices, normalize_gram_matrix \n",
    "from surveyor_scripts.treeclust_compare import cophentic_correlation_test, mantel_test\n",
    "\n",
    "# plotly notebook mode\n",
    "py.init_notebook_mode()"
   ]
  },
  {
   "cell_type": "markdown",
   "metadata": {},
   "source": [
    "## Generate a phenetic tree from the global kmer Gram matrix\n",
    "\n",
    "* read the matrix and get rid of the indices linked to the filtering datasets\n",
    "* build a neighbor-joining tree from the derived distance matrix\n",
    "* build a dendrogram / heatmap of the distance matrix"
   ]
  },
  {
   "cell_type": "code",
   "execution_count": null,
   "metadata": {
    "collapsed": true
   },
   "outputs": [],
   "source": [
    "# Read Gram matrix as a pandas dataframe\n",
    "sim_matrix_global = read_matrix('./survey.res.microbiomes/Surveyor/SimilarityMatrix.global.tsv')\n",
    "\n",
    "# Remove filtering dataset entries from the global Gram matrix to keep only the genome entries\n",
    "# print(sim_matrix_global.axes[0])\n",
    "sim_matrix_global = drop_indices(sim_matrix_global, [0,1,2,3,4,5,6])\n",
    "# display(sim_matrix_global)"
   ]
  },
  {
   "cell_type": "code",
   "execution_count": null,
   "metadata": {
    "scrolled": false
   },
   "outputs": [],
   "source": [
    "# Neighbor-Joining tree from the gram matrix -> distance matrix\n",
    "\n",
    "# Get the normalized matrix\n",
    "norm_mat = normalize_gram_matrix(sim_matrix_global.as_matrix())\n",
    "\n",
    "# Generate a distance matrix from normalized matrix with a distance function (euclidean)\n",
    "dist_mat = squareform(pdist(norm_mat, 'euclidean'))\n",
    "df_dist = pd.DataFrame(dist_mat, index=sim_matrix_global.index, columns=sim_matrix_global.columns)\n",
    "# display(df_dist)\n",
    "\n",
    "# Build the nj tree with ete3\n",
    "names_list = [str(i) for i in sim_matrix_global.index.values.tolist()]\n",
    "tree = build_tree(df_dist, names_list, 'nj')\n",
    "tree.render(\"%%inline\", w=500)"
   ]
  },
  {
   "cell_type": "markdown",
   "metadata": {},
   "source": [
    "## Questions :\n",
    "### What can you deduce from the tree in terms of patient microbiome diversity VS the antibiotic effect ?\n",
    "### Patients 6,7,8,23,25,38 are controls is there some indication of that in the tree ? "
   ]
  },
  {
   "cell_type": "code",
   "execution_count": null,
   "metadata": {},
   "outputs": [],
   "source": [
    "# Plot a dendrogram and heatmap for whole genome clusters\n",
    "figure = plotly_heatmap(df_dist, title=\"Whole Genomes\", width=900, height=900)\n",
    "py.iplot(figure)"
   ]
  },
  {
   "cell_type": "markdown",
   "metadata": {},
   "source": [
    "## Create hierarchical cluster dendrogram for the filtered matrices (Insertion Sequences, Resistance Genes, Phages)\n"
   ]
  },
  {
   "cell_type": "markdown",
   "metadata": {},
   "source": [
    "### * Insertion Sequences Filtering"
   ]
  },
  {
   "cell_type": "code",
   "execution_count": null,
   "metadata": {
    "scrolled": false
   },
   "outputs": [],
   "source": [
    "# Load and display the filtered datasets\n",
    "sim_matrix_is_filter = read_matrix('./survey.res.microbiomes/Surveyor/SimilarityMatrix.filter-1.tsv')\n",
    "# print(sim_matrix_is_filter.axes[0])\n",
    "sim_matrix_is_filter = drop_indices(sim_matrix_is_filter, [0])\n",
    "# display(sim_matrix_is_filter)\n",
    "\n",
    "# Plot a dendrogram and heatmap\n",
    "dist_matrix_is_filter= pd.DataFrame(squareform(pdist(normalize_gram_matrix(sim_matrix_is_filter.as_matrix()), 'euclidean')), index=sim_matrix_global.index, columns=sim_matrix_global.columns)\n",
    "figure = plotly_heatmap(dist_matrix_is_filter, title=\"IS - Genomes Filtering\", width=900, height=900)\n",
    "py.iplot(figure)\n"
   ]
  },
  {
   "cell_type": "markdown",
   "metadata": {},
   "source": [
    "### * Antibiotic Resistance Genes Filtering"
   ]
  },
  {
   "cell_type": "code",
   "execution_count": null,
   "metadata": {
    "scrolled": false
   },
   "outputs": [],
   "source": [
    "# Load and display the filtered datasets\n",
    "sim_matrix_ar_filter = read_matrix('./survey.res.microbiomes/Surveyor/SimilarityMatrix.filter-2.tsv')\n",
    "# print(sim_matrix_ar_filter.axes[0])\n",
    "sim_matrix_ar_filter = drop_indices(sim_matrix_ar_filter, [0])\n",
    "# display(sim_matrix_ar_filter)\n",
    "\n",
    "# Plot a dendrogram and heatmap\n",
    "dist_matrix_ar_filter= pd.DataFrame(squareform(pdist(normalize_gram_matrix(sim_matrix_ar_filter.as_matrix()), 'euclidean')), index=sim_matrix_global.index, columns=sim_matrix_global.columns)\n",
    "figure = plotly_heatmap(dist_matrix_ar_filter, title=\"Antibiotic Resistance - Genomes Filtering\", width=900, height=900)\n",
    "py.iplot(figure)"
   ]
  },
  {
   "cell_type": "markdown",
   "metadata": {},
   "source": [
    "## * Bacteriophages Filtering (to complete)\n",
    "\n",
    "* Take example from the filtered matrices 1 and 2 below\n",
    "* Use file ./survey.res.microbiomes/Surveyor/SimilarityMatrix.filter-3.tsv for the matrix file\n",
    "* Name your you distance matrix dist_matrix_phages_filter\n"
   ]
  },
  {
   "cell_type": "code",
   "execution_count": null,
   "metadata": {
    "collapsed": true,
    "scrolled": false
   },
   "outputs": [],
   "source": [
    "# PUT YOUR CODE HERE for the Bacteriophages Filtering\n"
   ]
  },
  {
   "cell_type": "markdown",
   "metadata": {},
   "source": [
    "## Compare whole genome and filtered genome clustering\n",
    "\n",
    "In order to evaluate how the filtered genome clusters correlate with the whole genome cluster, we can use the cophenetic correlation coefficient (CCC).\n",
    "You can read more about Cophenetic correlation here : https://en.wikipedia.org/wiki/Cophenetic_correlation.\n",
    "\n",
    "Essentially, the coefficient gives a confidence of how well the distance between the leafs of a dendrograms are preserve with unmodelled datapoints.\n",
    "When used with the whole genome cluster as the reference datapoints it gives us an index of similarities between clusters.\n",
    "\n",
    "The CCC is a value between 0-1; 0 meaning that there's no correlation at all between the 2 clustering and 1 means a perfect cluster's correlation.\n"
   ]
  },
  {
   "cell_type": "code",
   "execution_count": null,
   "metadata": {},
   "outputs": [],
   "source": [
    "# Print Cophenetic Correlation Coefficient\n",
    "print(\"CCC between Whole-Genome VS IS Filtering : CCC %s, p-value %s\" % cophentic_correlation_test(df_dist,dist_matrix_is_filter))\n",
    "print(\"CCC between Whole-Genome VS AR Filtering : CCC %s, p-value %s\" % cophentic_correlation_test(df_dist,dist_matrix_ar_filter))\n",
    "print(\"CCC between Whole-Genome VS Phages Filtering : CCC %s, p-value %s\" % cophentic_correlation_test(df_dist,dist_matrix_phages_filter))"
   ]
  },
  {
   "cell_type": "markdown",
   "metadata": {
    "collapsed": true
   },
   "source": [
    "## Question\n",
    "### Which filtered dataset correlate the best with the whole genome clusters ?"
   ]
  },
  {
   "cell_type": "code",
   "execution_count": null,
   "metadata": {
    "collapsed": true
   },
   "outputs": [],
   "source": []
  }
 ],
 "metadata": {
  "kernelspec": {
   "display_name": "Python 3",
   "language": "python",
   "name": "python3"
  },
  "language_info": {
   "codemirror_mode": {
    "name": "ipython",
    "version": 3
   },
   "file_extension": ".py",
   "mimetype": "text/x-python",
   "name": "python",
   "nbconvert_exporter": "python",
   "pygments_lexer": "ipython3",
   "version": "3.5.3"
  }
 },
 "nbformat": 4,
 "nbformat_minor": 2
}
